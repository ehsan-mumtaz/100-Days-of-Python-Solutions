{
 "cells": [
  {
   "cell_type": "markdown",
   "metadata": {},
   "source": [
    "## FizzBuzz\n",
    "\n",
    "Write a Python program that prints the numbers from 1 to 100.  \n",
    "\n",
    "- For multiples of **3**, print `\"Fizz\"` instead of the number.  \n",
    "- For multiples of **5**, print `\"Buzz\"`.  \n",
    "- For numbers that are multiples of **both 3 and 5**, print `\"FizzBuzz\"`.  "
   ]
  },
  {
   "cell_type": "code",
   "execution_count": null,
   "metadata": {},
   "outputs": [],
   "source": [
    "for num in range(1,100):\n",
    "    if (num % 3 == 0 and num % 5 ==0):\n",
    "        print(\"FizzBuzz\")\n",
    "    elif (num % 3 == 0):\n",
    "        print(\"Fizz\")\n",
    "    elif (num % 5 == 0):\n",
    "        print(\"Buzz\")\n",
    "    else:\n",
    "        print(num)"
   ]
  }
 ],
 "metadata": {
  "kernelspec": {
   "display_name": "Python 3",
   "language": "python",
   "name": "python3"
  },
  "language_info": {
   "codemirror_mode": {
    "name": "ipython",
    "version": 3
   },
   "file_extension": ".py",
   "mimetype": "text/x-python",
   "name": "python",
   "nbconvert_exporter": "python",
   "pygments_lexer": "ipython3",
   "version": "3.13.0"
  }
 },
 "nbformat": 4,
 "nbformat_minor": 2
}
