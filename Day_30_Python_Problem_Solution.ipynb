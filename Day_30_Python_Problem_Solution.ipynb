{
 "cells": [
  {
   "cell_type": "markdown",
   "id": "f47ea758",
   "metadata": {},
   "source": [
    "### Product of Array Except Self  \n",
    "\n",
    "Write a Python program that takes a list of integers as input and returns a new list such that each element at index `i` is the product of all the numbers in the original list except the one at `i`, without using division."
   ]
  },
  {
   "cell_type": "code",
   "execution_count": null,
   "id": "b303c4d6",
   "metadata": {},
   "outputs": [],
   "source": [
    "class Solution:\n",
    "    def product_except_self(self, nums: list[int]) -> list[int]:\n",
    "        n = len(nums)\n",
    "        result = [1] * n \n",
    "        prefix_product = 1\n",
    "\n",
    "        for i in range(n):\n",
    "            result[i] = prefix_product\n",
    "            prefix_product *= nums[i]\n",
    "\n",
    "        suffix_product = 1\n",
    "        for i in range(n - 1, -1, -1):\n",
    "            result[i] *= suffix_product\n",
    "            suffix_product *= nums[i]\n",
    "        return result\n",
    "    \n",
    "s1 = Solution()\n",
    "nums = [1, 2, 3, 4]\n",
    "link = s1.product_except_self(nums)\n",
    "print(f\"Product of Array (Except Self): {link}\")"
   ]
  }
 ],
 "metadata": {
  "kernelspec": {
   "display_name": "Python 3",
   "language": "python",
   "name": "python3"
  },
  "language_info": {
   "name": "python",
   "version": "3.13.0"
  }
 },
 "nbformat": 4,
 "nbformat_minor": 5
}
