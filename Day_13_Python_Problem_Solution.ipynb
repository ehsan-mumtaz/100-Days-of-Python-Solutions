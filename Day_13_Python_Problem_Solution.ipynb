{
 "cells": [
  {
   "cell_type": "markdown",
   "metadata": {},
   "source": [
    "**Day 15 Problem:**  \n",
    "Write a Python function that takes a list of integers and returns `True` if there are any duplicate numbers, otherwise returns `False`. "
   ]
  },
  {
   "cell_type": "code",
   "execution_count": null,
   "metadata": {},
   "outputs": [
    {
     "name": "stdout",
     "output_type": "stream",
     "text": [
      "True\n"
     ]
    }
   ],
   "source": [
    "def has_duplicates(n):\n",
    "    list_numbers = set()\n",
    "\n",
    "    for i in n:\n",
    "        if (i in list_numbers):\n",
    "            return True\n",
    "        list_numbers.add(i)\n",
    "    return False\n",
    "\n",
    "user_input = input(\"Enter numbers separated by space: \")\n",
    "input_list = list(map(int, user_input.split()))\n",
    "print(has_duplicates(input_list))"
   ]
  }
 ],
 "metadata": {
  "kernelspec": {
   "display_name": "Python 3",
   "language": "python",
   "name": "python3"
  },
  "language_info": {
   "codemirror_mode": {
    "name": "ipython",
    "version": 3
   },
   "file_extension": ".py",
   "mimetype": "text/x-python",
   "name": "python",
   "nbconvert_exporter": "python",
   "pygments_lexer": "ipython3",
   "version": "3.13.0"
  }
 },
 "nbformat": 4,
 "nbformat_minor": 2
}
