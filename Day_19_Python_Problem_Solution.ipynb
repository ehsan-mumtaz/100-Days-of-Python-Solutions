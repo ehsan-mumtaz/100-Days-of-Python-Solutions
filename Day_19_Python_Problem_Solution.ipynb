{
 "cells": [
  {
   "cell_type": "markdown",
   "metadata": {},
   "source": [
    "### Find the Missing Number  \n",
    "\n",
    "Write a Python program that takes a list of `n-1` unique numbers from the range `1` to `n` and finds the missing number."
   ]
  },
  {
   "cell_type": "code",
   "execution_count": null,
   "metadata": {},
   "outputs": [],
   "source": [
    "def find_missing_number(nums):\n",
    "    nums_set = set(nums)\n",
    "    n = len(nums) + 1\n",
    "    for num in range(1, n + 1):\n",
    "        if num not in nums_set:\n",
    "            return num\n",
    "\n",
    "list1 = [1, 3, 5, 2] \n",
    "result = find_missing_number(list1)\n",
    "print(f\"Missing Number: {result}\")"
   ]
  }
 ],
 "metadata": {
  "kernelspec": {
   "display_name": "Python 3",
   "language": "python",
   "name": "python3"
  },
  "language_info": {
   "codemirror_mode": {
    "name": "ipython",
    "version": 3
   },
   "file_extension": ".py",
   "mimetype": "text/x-python",
   "name": "python",
   "nbconvert_exporter": "python",
   "pygments_lexer": "ipython3",
   "version": "3.13.0"
  }
 },
 "nbformat": 4,
 "nbformat_minor": 2
}
