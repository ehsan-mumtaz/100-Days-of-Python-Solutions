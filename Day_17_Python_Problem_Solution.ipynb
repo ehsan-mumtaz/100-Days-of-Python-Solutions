{
 "cells": [
  {
   "cell_type": "markdown",
   "metadata": {},
   "source": [
    "### Merge and Sort Two Lists  \n",
    "\n",
    "Write a Python program that takes two lists of integers as input, merges them into one list, and returns the sorted list in ascending order."
   ]
  },
  {
   "cell_type": "code",
   "execution_count": null,
   "metadata": {},
   "outputs": [],
   "source": [
    "num_list1 = int(input(\"Enter the total number of elements in list1: \"))\n",
    "list1 = []\n",
    "for i in range(1, num_list1 + 1):\n",
    "    num = int(input(\"Enter number: \"))\n",
    "    list1.append(num)\n",
    "print(f\"Elements of list1: {list1}\")\n",
    "\n",
    "num_list2 = int(input(\"Enter the total number of elements in list2: \"))\n",
    "list2 = []\n",
    "for i in range(1, num_list2 + 1):\n",
    "    num = int(input(\"Enter number: \"))\n",
    "    list2.append(num)\n",
    "print(f\"Elements of list2: {list2}\")\n",
    "\n",
    "merge = list1 + list2\n",
    "print(f\"Merged list: {merge}\")\n",
    "merge.sort()\n",
    "print(f\"Sorted merged list: {merge}\")"
   ]
  }
 ],
 "metadata": {
  "kernelspec": {
   "display_name": "Python 3",
   "language": "python",
   "name": "python3"
  },
  "language_info": {
   "codemirror_mode": {
    "name": "ipython",
    "version": 3
   },
   "file_extension": ".py",
   "mimetype": "text/x-python",
   "name": "python",
   "nbconvert_exporter": "python",
   "pygments_lexer": "ipython3",
   "version": "3.13.0"
  }
 },
 "nbformat": 4,
 "nbformat_minor": 2
}
