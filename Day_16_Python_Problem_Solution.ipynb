{
 "cells": [
  {
   "cell_type": "markdown",
   "metadata": {},
   "source": [
    "## Longest Prefix\n",
    "Write a function that finds the longest common prefix among a list of strings. If there is no common prefix, return an empty string \"\"."
   ]
  },
  {
   "cell_type": "code",
   "execution_count": null,
   "metadata": {},
   "outputs": [],
   "source": [
    "def Longest_Prefix(str1):\n",
    "    max_prefix = \"\"\n",
    "    if not str1:\n",
    "        return max_prefix\n",
    "    \n",
    "    min_string = min(str1, key=len)\n",
    "    for i in range(len(min_string)):\n",
    "        current_prefix = min_string[:i + 1]\n",
    "        if all(s.startswith(current_prefix) for s in str1):\n",
    "            max_prefix = current_prefix \n",
    "        else:\n",
    "            break  \n",
    "    return max_prefix\n",
    "\n",
    "string_list = [\"apple\", \"application\", \"app\", \"append\", \"appreciate\"]\n",
    "print(Longest_Prefix(string_list))\n"
   ]
  }
 ],
 "metadata": {
  "kernelspec": {
   "display_name": "Python 3",
   "language": "python",
   "name": "python3"
  },
  "language_info": {
   "codemirror_mode": {
    "name": "ipython",
    "version": 3
   },
   "file_extension": ".py",
   "mimetype": "text/x-python",
   "name": "python",
   "nbconvert_exporter": "python",
   "pygments_lexer": "ipython3",
   "version": "3.13.0"
  }
 },
 "nbformat": 4,
 "nbformat_minor": 2
}
