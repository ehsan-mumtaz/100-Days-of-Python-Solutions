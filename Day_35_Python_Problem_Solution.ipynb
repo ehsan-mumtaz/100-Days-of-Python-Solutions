{
 "cells": [
  {
   "cell_type": "markdown",
   "id": "2c9fce94",
   "metadata": {},
   "source": [
    "### Word Ladder Length\n",
    "\n",
    "Write a Python program that takes a `beginWord`, an `endWord`, and a list of `wordList`, and returns the length of the shortest transformation sequence from `beginWord` to `endWord`, such that:\n",
    "\n",
    "1. Only one letter can be changed at a time.\n",
    "2. Each transformed word must exist in `wordList`.\n",
    "\n",
    "If no such transformation sequence exists, return `0`."
   ]
  },
  {
   "cell_type": "code",
   "execution_count": null,
   "id": "3212ba5d",
   "metadata": {},
   "outputs": [],
   "source": [
    "import collections\n",
    "from collections import deque\n",
    "class Solution:\n",
    "    def ladderLength(self, beginword: str, endword: str, wordList: list[str]) -> int:\n",
    "        if endword not in wordList:\n",
    "            return 0\n",
    "        nei = collections.defaultdict(list)\n",
    "        wordList.append(beginword)\n",
    "        for word in wordList:\n",
    "            for j in range(len(word)):\n",
    "                pattern = word[:j] + \"*\" + word[j + 1:]\n",
    "                nei[pattern].append(word)\n",
    "        visit = set([beginword])\n",
    "        q = deque([beginword])\n",
    "        res = 1\n",
    "        while q:\n",
    "            for _ in range(len(q)):\n",
    "                word = q.popleft()\n",
    "                if word == endword:\n",
    "                    return res\n",
    "                for j in range(len(word)):\n",
    "                    pattern = word[:j] + \"*\" + word[j + 1:]\n",
    "                    for neiword in nei[pattern]:\n",
    "                        if neiword not in visit:\n",
    "                            visit.add(neiword)\n",
    "                            q.append(neiword)\n",
    "            res += 1\n",
    "        return 0\n",
    "    \n",
    "s1 = Solution()\n",
    "result = s1.ladderLength(\"hit\", \"cog\", [\"hot\",\"dot\",\"dog\",\"lot\",\"log\",\"cog\"])\n",
    "print(result)"
   ]
  }
 ],
 "metadata": {
  "kernelspec": {
   "display_name": "Python 3",
   "language": "python",
   "name": "python3"
  },
  "language_info": {
   "codemirror_mode": {
    "name": "ipython",
    "version": 3
   },
   "file_extension": ".py",
   "mimetype": "text/x-python",
   "name": "python",
   "nbconvert_exporter": "python",
   "pygments_lexer": "ipython3",
   "version": "3.13.0"
  }
 },
 "nbformat": 4,
 "nbformat_minor": 5
}
