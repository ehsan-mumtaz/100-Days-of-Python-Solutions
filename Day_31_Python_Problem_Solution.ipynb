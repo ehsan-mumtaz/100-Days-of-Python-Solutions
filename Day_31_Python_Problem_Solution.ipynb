{
 "cells": [
  {
   "cell_type": "markdown",
   "id": "6a50d64d",
   "metadata": {},
   "source": [
    "### Implement Queue Using Stacks  \n",
    "\n",
    "Write a Python class that implements a queue using two stacks. Your class should support the following operations:  \n",
    "- `enqueue(x)`: Add an element to the end of the queue.  \n",
    "- `dequeue()`: Remove the element from the front of the queue and return it.  \n",
    "- `peek()`: Return the front element.  \n",
    "- `empty()`: Return `True` if the queue is empty, otherwise `False`."
   ]
  },
  {
   "cell_type": "code",
   "execution_count": null,
   "id": "76fd3bd8",
   "metadata": {},
   "outputs": [],
   "source": [
    "class MyQueue:\n",
    "    def __init__(self):\n",
    "        self.stack1 = []  \n",
    "        self.stack2 = []\n",
    "        \n",
    "    def enqueue(self, x: int) -> None:\n",
    "        self.stack1.append(x)\n",
    "\n",
    "    def dequeue(self) -> int:\n",
    "        if not self.stack2:\n",
    "            while self.stack1:\n",
    "                self.stack2.append(self.stack1.pop())\n",
    "        return self.stack2.pop() if self.stack2 else None\n",
    "\n",
    "    def peek(self) -> int:\n",
    "        if not self.stack2:\n",
    "            while self.stack1:\n",
    "                self.stack2.append(self.stack1.pop())\n",
    "        return self.stack2[-1] if self.stack2 else None\n",
    "\n",
    "    def empty(self) -> bool:\n",
    "        return not self.stack1 and not self.stack2\n",
    "\n",
    "q = MyQueue()\n",
    "q.enqueue(1)\n",
    "q.enqueue(2)\n",
    "print(q.peek())\n",
    "print(q.dequeue()) \n",
    "print(q.empty())"
   ]
  }
 ],
 "metadata": {
  "kernelspec": {
   "display_name": "Python 3",
   "language": "python",
   "name": "python3"
  },
  "language_info": {
   "name": "python",
   "version": "3.13.0"
  }
 },
 "nbformat": 4,
 "nbformat_minor": 5
}
