{
 "cells": [
  {
   "cell_type": "markdown",
   "metadata": {},
   "source": [
    "### Intersection of Two Lists  \n",
    "\n",
    "Write a Python program that takes two lists of integers as input and returns a list containing their intersection (common elements), with no duplicates in the result."
   ]
  },
  {
   "cell_type": "code",
   "execution_count": null,
   "metadata": {},
   "outputs": [],
   "source": [
    "def intersection_for_list(l1, l2):\n",
    "    result = []\n",
    "    for i in l1:\n",
    "        if i in l2 and i not in result:\n",
    "            result.append(i)\n",
    "    if result:\n",
    "        print(f\"Common Elements: {result}\")\n",
    "    else:\n",
    "        print(\"No common elements found.\")\n",
    "\n",
    "list1 = list(map(int, input(\"Enter numbers for list1: \").split(',')))\n",
    "list2 = list(map(int, input(\"Enter numbers for list2: \").split(',')))\n",
    "intersection_for_list(list1, list2)"
   ]
  }
 ],
 "metadata": {
  "kernelspec": {
   "display_name": "Python 3",
   "language": "python",
   "name": "python3"
  },
  "language_info": {
   "codemirror_mode": {
    "name": "ipython",
    "version": 3
   },
   "file_extension": ".py",
   "mimetype": "text/x-python",
   "name": "python",
   "nbconvert_exporter": "python",
   "pygments_lexer": "ipython3",
   "version": "3.13.0"
  }
 },
 "nbformat": 4,
 "nbformat_minor": 2
}
