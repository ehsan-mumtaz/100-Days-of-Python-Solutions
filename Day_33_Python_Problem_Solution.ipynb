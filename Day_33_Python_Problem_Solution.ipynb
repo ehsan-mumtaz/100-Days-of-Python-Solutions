{
 "cells": [
  {
   "cell_type": "markdown",
   "id": "d1610916",
   "metadata": {},
   "source": [
    "### Course Schedule (Cycle Detection in Graph)\n",
    "\n",
    "Write a Python program to determine if it is possible to finish all courses given the total number of courses and a list of prerequisite pairs.\n",
    "\n",
    "Each pair `[a, b]` means course `a` requires course `b` to be completed first. Return `True` if it is possible to finish all courses, otherwise return `False`."
   ]
  },
  {
   "cell_type": "code",
   "execution_count": null,
   "id": "4e72fe96",
   "metadata": {},
   "outputs": [],
   "source": [
    "from collections import defaultdict\n",
    "class Solution:\n",
    "    def canFinish(self, numCourses: int, prerequisites: list[list[int]]) -> bool:\n",
    "        graph = defaultdict(list)\n",
    "        for course, prerequisite in prerequisites:\n",
    "            graph[course].append(prerequisite)\n",
    "\n",
    "        UNVISITED, VISITING, VISITED = 0, 1, 2\n",
    "        state = [UNVISITED] * numCourses\n",
    "\n",
    "        def hasCycle(course: int) -> bool:\n",
    "            if state[course] == VISITING:\n",
    "                return True  \n",
    "            if state[course] == VISITED:\n",
    "                return False \n",
    "\n",
    "            state[course] = VISITING\n",
    "            for neighbor in graph[course]:\n",
    "                if hasCycle(neighbor):\n",
    "                    return True\n",
    "            state[course] = VISITED\n",
    "            return False\n",
    "\n",
    "        for course in range(numCourses):\n",
    "            if hasCycle(course):\n",
    "                return False\n",
    "        return True\n",
    "\n",
    "solution = Solution()\n",
    "numCourses = 3\n",
    "prerequisites = [[0, 2], [1, 2]]\n",
    "result = solution.canFinish(numCourses, prerequisites)\n",
    "print(f\"Course completion is: {result}\")"
   ]
  }
 ],
 "metadata": {
  "kernelspec": {
   "display_name": "Python 3",
   "language": "python",
   "name": "python3"
  },
  "language_info": {
   "codemirror_mode": {
    "name": "ipython",
    "version": 3
   },
   "file_extension": ".py",
   "mimetype": "text/x-python",
   "name": "python",
   "nbconvert_exporter": "python",
   "pygments_lexer": "ipython3",
   "version": "3.13.0"
  }
 },
 "nbformat": 4,
 "nbformat_minor": 5
}
