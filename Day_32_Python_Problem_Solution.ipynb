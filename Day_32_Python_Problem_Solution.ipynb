{
 "cells": [
  {
   "cell_type": "markdown",
   "id": "64d78e6a",
   "metadata": {},
   "source": [
    "### Find Peak Element  \n",
    "\n",
    "Write a Python program that takes a list of integers as input and returns the index of any one peak element. A peak element is an element that is strictly greater than its neighbors. You may assume that the list contains at least one peak."
   ]
  },
  {
   "cell_type": "code",
   "execution_count": null,
   "id": "d3215cd1",
   "metadata": {},
   "outputs": [],
   "source": [
    "class Solution:\n",
    "    def findPeakElement(self, nums: list[int]) -> int:\n",
    "        left, right = 0, len(nums) - 1\n",
    "\n",
    "        while left < right:\n",
    "            mid = (left + right) // 2\n",
    "            if nums[mid] < nums[mid + 1]:\n",
    "                left = mid + 1\n",
    "            else:\n",
    "                right = mid\n",
    "        return left \n",
    "\n",
    "s1 = Solution()\n",
    "nums = [1, 13, 5, 26, 10]\n",
    "peak_index = s1.findPeakElement(nums)\n",
    "print(f\"Peak element is at index {peak_index}, value: {nums[peak_index]}\")"
   ]
  }
 ],
 "metadata": {
  "kernelspec": {
   "display_name": "Python 3",
   "language": "python",
   "name": "python3"
  },
  "language_info": {
   "name": "python",
   "version": "3.13.0"
  }
 },
 "nbformat": 4,
 "nbformat_minor": 5
}
