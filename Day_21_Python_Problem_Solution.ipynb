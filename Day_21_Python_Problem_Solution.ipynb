{
 "cells": [
  {
   "cell_type": "markdown",
   "metadata": {},
   "source": [
    "### Group Anagrams  \n",
    "\n",
    "Write a Python program that takes a list of strings as input and groups the anagrams together. Return a list of lists, where each sublist contains words that are anagrams of each other."
   ]
  },
  {
   "cell_type": "code",
   "execution_count": 1,
   "metadata": {},
   "outputs": [
    {
     "name": "stdout",
     "output_type": "stream",
     "text": [
      "List of Anagrams:\n",
      " [['tea', 'eat', 'ate'], ['bat'], ['arc', 'car']]\n"
     ]
    }
   ],
   "source": [
    "def group_anagrams(words):\n",
    "    dict1 = {}\n",
    "    for word in words:\n",
    "        sorted_word = ''.join(sorted(word)).lower()\n",
    "        \n",
    "        if sorted_word in dict1:\n",
    "            dict1[sorted_word].append(word)\n",
    "        else:\n",
    "            dict1[sorted_word] = [word]\n",
    "    return list(dict1.values())\n",
    "\n",
    "words = [\"tea\", \"eat\", \"bat\", \"ate\", \"arc\", \"car\"]\n",
    "print(\"List of Anagrams:\\n\", group_anagrams(words))"
   ]
  }
 ],
 "metadata": {
  "kernelspec": {
   "display_name": "Python 3",
   "language": "python",
   "name": "python3"
  },
  "language_info": {
   "codemirror_mode": {
    "name": "ipython",
    "version": 3
   },
   "file_extension": ".py",
   "mimetype": "text/x-python",
   "name": "python",
   "nbconvert_exporter": "python",
   "pygments_lexer": "ipython3",
   "version": "3.13.0"
  }
 },
 "nbformat": 4,
 "nbformat_minor": 2
}
