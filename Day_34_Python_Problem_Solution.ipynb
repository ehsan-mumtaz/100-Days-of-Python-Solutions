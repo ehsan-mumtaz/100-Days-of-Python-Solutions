{
 "cells": [
  {
   "cell_type": "markdown",
   "id": "04c55232",
   "metadata": {},
   "source": [
    "### Implement Trie (Prefix Tree)\n",
    "\n",
    "Write a Python class `Trie` that supports the following operations:\n",
    "\n",
    "* `insert(word)`: Inserts a word into the trie.\n",
    "* `search(word)`: Returns `True` if the word is in the trie, `False` otherwise.\n",
    "* `startsWith(prefix)`: Returns `True` if there is any word in the trie that starts with the given prefix."
   ]
  },
  {
   "cell_type": "code",
   "execution_count": null,
   "id": "9818f69c",
   "metadata": {},
   "outputs": [],
   "source": [
    "class Trie:\n",
    "    def __init__(self):\n",
    "        self.trie = {}\n",
    "    \n",
    "    def insert(self, word: str) -> None:\n",
    "        d = self.trie\n",
    "        for c in word:\n",
    "            if c not in d:\n",
    "                d[c] = {}\n",
    "            d = d[c]\n",
    "        d[','] = ','\n",
    "\n",
    "    def search(self, word: str) -> bool:\n",
    "        d = self.trie\n",
    "        for c in word:\n",
    "            if c not in d:\n",
    "                return False\n",
    "            d = d[c]\n",
    "        return ',' in d\n",
    "    \n",
    "    def startwith(self, prefix: str) -> bool:\n",
    "        d = self.trie\n",
    "        for c in prefix:\n",
    "            if c not in d:\n",
    "                return False\n",
    "            d = d[c]\n",
    "        return True\n",
    "\n",
    "T = Trie()\n",
    "T.insert(\"apple\")\n",
    "T.insert(\"app\")\n",
    "print(T.search(\"apple\"))\n",
    "print(T.search(\"app\"))  \n",
    "print(T.startwith(\"ap\"))\n",
    "print(T.search(\"ap\"))    \n"
   ]
  }
 ],
 "metadata": {
  "kernelspec": {
   "display_name": "Python 3",
   "language": "python",
   "name": "python3"
  },
  "language_info": {
   "codemirror_mode": {
    "name": "ipython",
    "version": 3
   },
   "file_extension": ".py",
   "mimetype": "text/x-python",
   "name": "python",
   "nbconvert_exporter": "python",
   "pygments_lexer": "ipython3",
   "version": "3.13.0"
  }
 },
 "nbformat": 4,
 "nbformat_minor": 5
}
