{
 "cells": [
  {
   "cell_type": "markdown",
   "metadata": {},
   "source": [
    "### Count Word Frequency  \n",
    "\n",
    "Write a Python program that takes a string as input and returns a dictionary with the frequency of each word in the string."
   ]
  },
  {
   "cell_type": "code",
   "execution_count": null,
   "metadata": {},
   "outputs": [],
   "source": [
    "def count_word_frequency(paragraph):\n",
    "    words = paragraph.split()\n",
    "    counter = {}\n",
    "\n",
    "    for word in words:\n",
    "        if word in counter:\n",
    "            counter[word] = counter[word] + 1\n",
    "        else:\n",
    "            counter[word] = 1\n",
    "    return counter\n",
    "\n",
    "paragraph = input(\"Enter a string: \")\n",
    "word_frequency = count_word_frequency(paragraph)\n",
    "print(f\"Word Frequency: {word_frequency}\")"
   ]
  }
 ],
 "metadata": {
  "kernelspec": {
   "display_name": "Python 3",
   "language": "python",
   "name": "python3"
  },
  "language_info": {
   "codemirror_mode": {
    "name": "ipython",
    "version": 3
   },
   "file_extension": ".py",
   "mimetype": "text/x-python",
   "name": "python",
   "nbconvert_exporter": "python",
   "pygments_lexer": "ipython3",
   "version": "3.13.0"
  }
 },
 "nbformat": 4,
 "nbformat_minor": 2
}
