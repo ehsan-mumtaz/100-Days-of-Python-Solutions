{
 "cells": [
  {
   "cell_type": "markdown",
   "metadata": {},
   "source": [
    "### Fibonacci Sequence  \n",
    "\n",
    "Write a Python program that takes an integer `n` as input and prints the first `n` numbers of the Fibonacci sequence."
   ]
  },
  {
   "cell_type": "code",
   "execution_count": null,
   "metadata": {},
   "outputs": [],
   "source": [
    "num_int = int(input(\"Enter an interger number:.. \"))\n",
    "def fib_sequence(num_int):\n",
    "    return num_int\n",
    "a = 0\n",
    "b = 1\n",
    "if(num_int <= 0):\n",
    "    print(\"Please Enter Number Greater Than 0\")\n",
    "else:\n",
    "    print(\"Fibonacci Sequence:\")\n",
    "    for i in range(num_int):\n",
    "        print(a, end= \" \")\n",
    "        sum = a + b\n",
    "        a = b\n",
    "        b = sum\n",
    "print(fib_sequence((f\"\\nYour enter number is:.. {num_int}\")))"
   ]
  }
 ],
 "metadata": {
  "kernelspec": {
   "display_name": "Python 3",
   "language": "python",
   "name": "python3"
  },
  "language_info": {
   "codemirror_mode": {
    "name": "ipython",
    "version": 3
   },
   "file_extension": ".py",
   "mimetype": "text/x-python",
   "name": "python",
   "nbconvert_exporter": "python",
   "pygments_lexer": "ipython3",
   "version": "3.13.0"
  }
 },
 "nbformat": 4,
 "nbformat_minor": 2
}
