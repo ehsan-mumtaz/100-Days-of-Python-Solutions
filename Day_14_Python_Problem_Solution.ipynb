{
 "cells": [
  {
   "cell_type": "markdown",
   "metadata": {},
   "source": [
    "### Anagram Check  \n",
    "\n",
    "Write a Python program that takes two strings as input and checks whether they are anagrams (contain the same characters in a different order)."
   ]
  },
  {
   "cell_type": "code",
   "execution_count": null,
   "metadata": {},
   "outputs": [],
   "source": [
    "word1 = input(\"Enter first word: \")\n",
    "word2 = input(\"Enter second word: \")\n",
    "\n",
    "word1 = word1.replace(\" \", \"\").lower()\n",
    "word2 = word2.replace(\" \", \"\").lower()\n",
    "\n",
    "word_sorted1 = sorted(word1)\n",
    "word_sorted2 = sorted(word2)\n",
    "\n",
    "if word_sorted1 == word_sorted2:\n",
    "    print(\"Is Anagram\")\n",
    "else:\n",
    "    print(\"Not Anagram\")"
   ]
  }
 ],
 "metadata": {
  "kernelspec": {
   "display_name": "Python 3",
   "language": "python",
   "name": "python3"
  },
  "language_info": {
   "codemirror_mode": {
    "name": "ipython",
    "version": 3
   },
   "file_extension": ".py",
   "mimetype": "text/x-python",
   "name": "python",
   "nbconvert_exporter": "python",
   "pygments_lexer": "ipython3",
   "version": "3.13.0"
  }
 },
 "nbformat": 4,
 "nbformat_minor": 2
}
