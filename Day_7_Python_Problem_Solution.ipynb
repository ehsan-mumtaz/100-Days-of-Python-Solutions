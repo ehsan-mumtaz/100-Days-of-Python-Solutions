{
 "cells": [
  {
   "cell_type": "markdown",
   "metadata": {},
   "source": [
    "### Prime Number Check  \n",
    "\n",
    "Write a Python program that takes an integer as input and prints \"Prime\" if the number is prime; otherwise, print \"Not Prime.\""
   ]
  },
  {
   "cell_type": "code",
   "execution_count": null,
   "metadata": {},
   "outputs": [],
   "source": [
    "def check_prime(num):\n",
    "    if (num < 2):\n",
    "        return False\n",
    "    for i in range(2, int(num ** 0.5) + 1):\n",
    "        if num % i == 0:\n",
    "            return False\n",
    "    return True\n",
    "num = int(input(\"Enter an integer: \"))\n",
    "if check_prime(num):\n",
    "    print(\"Prime\")\n",
    "else:\n",
    "    print(\"Not Prime\")"
   ]
  }
 ],
 "metadata": {
  "kernelspec": {
   "display_name": "Python 3",
   "language": "python",
   "name": "python3"
  },
  "language_info": {
   "codemirror_mode": {
    "name": "ipython",
    "version": 3
   },
   "file_extension": ".py",
   "mimetype": "text/x-python",
   "name": "python",
   "nbconvert_exporter": "python",
   "pygments_lexer": "ipython3",
   "version": "3.13.0"
  }
 },
 "nbformat": 4,
 "nbformat_minor": 2
}
