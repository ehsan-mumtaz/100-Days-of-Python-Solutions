{
 "cells": [
  {
   "cell_type": "markdown",
   "metadata": {},
   "source": [
    "### Prime Number Check  \n",
    "\n",
    "Write a Python program that takes an integer as input and prints \"Prime\" if the number is prime; otherwise, print \"Not Prime.\""
   ]
  },
  {
   "cell_type": "code",
   "execution_count": 11,
   "metadata": {},
   "outputs": [
    {
     "name": "stdout",
     "output_type": "stream",
     "text": [
      "Prime Number:.. 7\n"
     ]
    }
   ],
   "source": [
    "num = int(input(\"Enter any number:.. \"))\n",
    "def check_prime_no(n):\n",
    "    if (n < 2 or (n > 2 and n % 2 == 0)):  \n",
    "        print(f\"Not Prime Number:.. {n}\")\n",
    "    else:\n",
    "        is_prime = True\n",
    "        for i in range(3, int(n ** 0.5) + 1, 2):\n",
    "            if n % i == 0:\n",
    "                is_prime = False\n",
    "                break\n",
    "        if is_prime:\n",
    "            print(f\"Prime Number:.. {n}\")\n",
    "        else:\n",
    "            print(f\"Not Prime Number:.. {n}\")\n",
    "check_prime_no(num)"
   ]
  }
 ],
 "metadata": {
  "kernelspec": {
   "display_name": "Python 3",
   "language": "python",
   "name": "python3"
  },
  "language_info": {
   "codemirror_mode": {
    "name": "ipython",
    "version": 3
   },
   "file_extension": ".py",
   "mimetype": "text/x-python",
   "name": "python",
   "nbconvert_exporter": "python",
   "pygments_lexer": "ipython3",
   "version": "3.13.0"
  }
 },
 "nbformat": 4,
 "nbformat_minor": 2
}
