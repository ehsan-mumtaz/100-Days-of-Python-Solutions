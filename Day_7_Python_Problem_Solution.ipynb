{
 "cells": [
  {
   "cell_type": "markdown",
   "metadata": {},
   "source": [
    "### Prime Number Check  \n",
    "\n",
    "Write a Python program that takes an integer as input and prints \"Prime\" if the number is prime; otherwise, print \"Not Prime.\""
   ]
  },
  {
   "cell_type": "code",
   "execution_count": 10,
   "metadata": {},
   "outputs": [
    {
     "ename": "ValueError",
     "evalue": "invalid literal for int() with base 10: 'Enter a number:'",
     "output_type": "error",
     "traceback": [
      "\u001b[1;31m---------------------------------------------------------------------------\u001b[0m",
      "\u001b[1;31mValueError\u001b[0m                                Traceback (most recent call last)",
      "Cell \u001b[1;32mIn[10], line 2\u001b[0m\n\u001b[0;32m      1\u001b[0m nums\u001b[38;5;241m=\u001b[39m [\u001b[38;5;241m2\u001b[39m, \u001b[38;5;241m3\u001b[39m, \u001b[38;5;241m5\u001b[39m, \u001b[38;5;241m7\u001b[39m, \u001b[38;5;241m11\u001b[39m, \u001b[38;5;241m13\u001b[39m, \u001b[38;5;241m17\u001b[39m, \u001b[38;5;241m19\u001b[39m, \u001b[38;5;241m23\u001b[39m, \u001b[38;5;241m29\u001b[39m, \u001b[38;5;241m31\u001b[39m, \u001b[38;5;241m37\u001b[39m, \u001b[38;5;241m41\u001b[39m, \u001b[38;5;241m43\u001b[39m, \u001b[38;5;241m47\u001b[39m, \u001b[38;5;241m53\u001b[39m, \u001b[38;5;241m59\u001b[39m, \u001b[38;5;241m61\u001b[39m, \u001b[38;5;241m67\u001b[39m, \u001b[38;5;241m71\u001b[39m, \u001b[38;5;241m73\u001b[39m, \u001b[38;5;241m79\u001b[39m, \u001b[38;5;241m83\u001b[39m, \u001b[38;5;241m89\u001b[39m, \u001b[38;5;241m97\u001b[39m]\n\u001b[1;32m----> 2\u001b[0m num \u001b[38;5;241m=\u001b[39m \u001b[38;5;28;43mint\u001b[39;49m\u001b[43m(\u001b[49m\u001b[38;5;124;43m\"\u001b[39;49m\u001b[38;5;124;43mEnter a number:\u001b[39;49m\u001b[38;5;124;43m\"\u001b[39;49m\u001b[43m \u001b[49m\u001b[43m)\u001b[49m\n\u001b[0;32m      3\u001b[0m \u001b[38;5;28;01mdef\u001b[39;00m\u001b[38;5;250m \u001b[39m\u001b[38;5;21mcheck_prime\u001b[39m(n):\n\u001b[0;32m      4\u001b[0m       \u001b[38;5;28;01mreturn\u001b[39;00m n\n",
      "\u001b[1;31mValueError\u001b[0m: invalid literal for int() with base 10: 'Enter a number:'"
     ]
    }
   ],
   "source": [
    "nums= [2, 3, 5, 7, 11, 13, 17, 19, 23, 29, 31, 37, 41, 43, 47, 53, 59, 61, 67, 71, 73, 79, 83, 89, 97]\n",
    "num = int(\"Enter a number:\" )\n",
    "def check_prime(n):\n",
    "      return n\n",
    "count = 0\n",
    "for i in range(1, num + 1):\n",
    "    if(num % i == 0):\n",
    "        count += 1\n",
    "if(count == 2):\n",
    "            print(num, \"in prime number: \")\n",
    "print(check_prime(nums))\n"
   ]
  }
 ],
 "metadata": {
  "kernelspec": {
   "display_name": "Python 3",
   "language": "python",
   "name": "python3"
  },
  "language_info": {
   "codemirror_mode": {
    "name": "ipython",
    "version": 3
   },
   "file_extension": ".py",
   "mimetype": "text/x-python",
   "name": "python",
   "nbconvert_exporter": "python",
   "pygments_lexer": "ipython3",
   "version": "3.13.0"
  }
 },
 "nbformat": 4,
 "nbformat_minor": 2
}
