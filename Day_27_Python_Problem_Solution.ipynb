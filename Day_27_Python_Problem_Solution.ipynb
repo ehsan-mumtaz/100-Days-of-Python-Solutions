{
 "cells": [
  {
   "cell_type": "markdown",
   "id": "2ce4665e",
   "metadata": {},
   "source": [
    "### Flatten Nested List  \n",
    "\n",
    "Write a Python program that takes a nested list (a list that may contain other lists as elements) and returns a single flattened list with all the values.\n"
   ]
  },
  {
   "cell_type": "code",
   "execution_count": 3,
   "id": "6f9e57fc",
   "metadata": {},
   "outputs": [
    {
     "name": "stdout",
     "output_type": "stream",
     "text": [
      "Original list: [[12, 23], [34, 45], [56, 67], [78, 89]]\n",
      "flatten list: [12, 23, 34, 45, 56, 67, 78, 89]\n"
     ]
    }
   ],
   "source": [
    "def flatten_list(list1):\n",
    "    flat_list = []\n",
    "\n",
    "    for sublist in list1:\n",
    "        for num in sublist:\n",
    "            flat_list.append(num)\n",
    "\n",
    "    print(f\"Original list: {list1}\")\n",
    "    print(f\"flatten list: {flat_list}\")\n",
    "\n",
    "my_list = [[12, 23], [34, 45], [56, 67], [78, 89]]\n",
    "flatten_list(my_list)"
   ]
  }
 ],
 "metadata": {
  "kernelspec": {
   "display_name": "Python 3",
   "language": "python",
   "name": "python3"
  },
  "language_info": {
   "codemirror_mode": {
    "name": "ipython",
    "version": 3
   },
   "file_extension": ".py",
   "mimetype": "text/x-python",
   "name": "python",
   "nbconvert_exporter": "python",
   "pygments_lexer": "ipython3",
   "version": "3.13.0"
  }
 },
 "nbformat": 4,
 "nbformat_minor": 5
}
