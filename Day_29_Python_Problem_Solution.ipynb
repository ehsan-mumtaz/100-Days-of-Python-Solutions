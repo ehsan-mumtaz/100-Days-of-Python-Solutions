{
 "cells": [
  {
   "cell_type": "markdown",
   "id": "1be95980",
   "metadata": {},
   "source": [
    "### Merge Intervals  \n",
    "\n",
    "Write a Python program that takes a list of intervals (each represented as a pair of integers `[start, end]`) and merges all overlapping intervals. Return a list of the merged intervals."
   ]
  },
  {
   "cell_type": "code",
   "execution_count": null,
   "id": "bc5882f4",
   "metadata": {
    "vscode": {
     "languageId": "plaintext"
    }
   },
   "outputs": [],
   "source": [
    "def merge_intervals(intervals):\n",
    "    if not intervals:\n",
    "        return []\n",
    "\n",
    "    intervals.sort(key=lambda x: x[0])\n",
    "    merged = [intervals[0]]\n",
    "\n",
    "    for current in intervals[1:]:\n",
    "        last = merged[-1]\n",
    "        if current[0] <= last[1]:\n",
    "            last[1] = max(last[1], current[1])\n",
    "        else:\n",
    "            merged.append(current)\n",
    "    return merged\n",
    "\n",
    "lis1 = [[1, 3], [2, 5], [6, 7], [8, 10], [9, 12]]\n",
    "result = merge_intervals(lis1)\n",
    "print(f\"Merge Intervals List: {result}\")"
   ]
  }
 ],
 "metadata": {
  "language_info": {
   "name": "python"
  }
 },
 "nbformat": 4,
 "nbformat_minor": 5
}
