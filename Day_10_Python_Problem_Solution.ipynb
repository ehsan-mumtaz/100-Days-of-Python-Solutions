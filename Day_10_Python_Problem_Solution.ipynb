{
 "cells": [
  {
   "cell_type": "markdown",
   "metadata": {},
   "source": [
    "**Problem for Day 10:**  \n",
    "Write a Python function to find the first non-repeating character in a given string. If all characters repeat, return `None`.  \n",
    "\n",
    "**Example:**  \n",
    "```python\n",
    "print(first_non_repeating(\"swiss\"))  # \"w\"  \n",
    "print(first_non_repeating(\"aabbcc\"))  # None  \n",
    "```"
   ]
  },
  {
   "cell_type": "code",
   "execution_count": null,
   "metadata": {},
   "outputs": [],
   "source": [
    "def check_first_unique_char(s):\n",
    "    char_count = {}\n",
    "    for char in s:\n",
    "        char_count[char] = char_count.get(char, 0) + 1\n",
    "    for char in s:\n",
    "        if char_count[char] == 1:\n",
    "            return char\n",
    "    return None\n",
    "input_str = input(\"Enter the string: \")\n",
    "result = check_first_unique_char(input_str)\n",
    "if result:\n",
    "    print(f\"The first unique character is: {result}\")\n",
    "else:\n",
    "    print(\"No unique character found.\")"
   ]
  }
 ],
 "metadata": {
  "kernelspec": {
   "display_name": "Python 3",
   "language": "python",
   "name": "python3"
  },
  "language_info": {
   "codemirror_mode": {
    "name": "ipython",
    "version": 3
   },
   "file_extension": ".py",
   "mimetype": "text/x-python",
   "name": "python",
   "nbconvert_exporter": "python",
   "pygments_lexer": "ipython3",
   "version": "3.13.0"
  }
 },
 "nbformat": 4,
 "nbformat_minor": 2
}
