{
 "cells": [
  {
   "cell_type": "markdown",
   "metadata": {},
   "source": [
    "### Matrix Transpose  \n",
    "\n",
    "Write a Python program that takes a 2D matrix (a list of lists) as input and returns its transpose.\n"
   ]
  },
  {
   "cell_type": "code",
   "execution_count": null,
   "metadata": {},
   "outputs": [],
   "source": [
    "def matrix_transpose():\n",
    "    matrix = [[1, 2, 3],\n",
    "              [4, 5, 6],\n",
    "              [7, 8, 9]]\n",
    "\n",
    "    print(\"Original matrix:\")\n",
    "    for row in matrix:\n",
    "        print(row)\n",
    "\n",
    "    transpose = [[0, 0, 0],\n",
    "                 [0, 0, 0],\n",
    "                 [0, 0, 0]]\n",
    "\n",
    "    for i in range(len(matrix)):\n",
    "        for j in range(len(matrix[0])):\n",
    "            transpose[j][i] = matrix[i][j]\n",
    "\n",
    "    print(\"Transposed matrix:\")\n",
    "    for row in transpose:\n",
    "        print(row)\n",
    "\n",
    "matrix_transpose()"
   ]
  }
 ],
 "metadata": {
  "kernelspec": {
   "display_name": "Python 3",
   "language": "python",
   "name": "python3"
  },
  "language_info": {
   "codemirror_mode": {
    "name": "ipython",
    "version": 3
   },
   "file_extension": ".py",
   "mimetype": "text/x-python",
   "name": "python",
   "nbconvert_exporter": "python",
   "pygments_lexer": "ipython3",
   "version": "3.13.0"
  }
 },
 "nbformat": 4,
 "nbformat_minor": 2
}
