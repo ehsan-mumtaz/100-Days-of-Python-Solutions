{
 "cells": [
  {
   "cell_type": "markdown",
   "metadata": {},
   "source": [
    "### Reverse a String  \n",
    "\n",
    "Write a Python program that takes a string as input and prints the reversed version of the string."
   ]
  },
  {
   "cell_type": "code",
   "execution_count": 20,
   "metadata": {},
   "outputs": [
    {
     "name": "stdout",
     "output_type": "stream",
     "text": [
      "Invalid Input: please enter the valid string..\n"
     ]
    }
   ],
   "source": [
    "str_value = input(\"Enter the string value:.. \")\n",
    "if(str_value.isdigit()):\n",
    "    print(\"Invalid Input: please enter the valid string..\")\n",
    "else:\n",
    "    str_reverse = str_value[::-1]\n",
    "    print(str_reverse)"
   ]
  }
 ],
 "metadata": {
  "kernelspec": {
   "display_name": "Python 3",
   "language": "python",
   "name": "python3"
  },
  "language_info": {
   "codemirror_mode": {
    "name": "ipython",
    "version": 3
   },
   "file_extension": ".py",
   "mimetype": "text/x-python",
   "name": "python",
   "nbconvert_exporter": "python",
   "pygments_lexer": "ipython3",
   "version": "3.13.0"
  }
 },
 "nbformat": 4,
 "nbformat_minor": 2
}
