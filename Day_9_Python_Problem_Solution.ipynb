{
 "cells": [
  {
   "cell_type": "markdown",
   "metadata": {},
   "source": [
    "**Day 9 Problem:**  \n",
    "Write a Python function that takes a string as input and returns `True` if it is a palindrome (reads the same forward and backward), ignoring case and non-alphanumeric characters. Otherwise, return `False`.  \n",
    "\n",
    "**Example:**  \n",
    "```python\n",
    "print(is_palindrome(\"A man, a plan, a canal: Panama\"))  # Output: True  \n",
    "print(is_palindrome(\"race a car\"))  # Output: False  \n",
    "```"
   ]
  },
  {
   "cell_type": "code",
   "execution_count": null,
   "metadata": {},
   "outputs": [],
   "source": [
    "import re\n",
    "def is_palindrome(word):\n",
    "\n",
    "    normalized_word = re.sub(r'[^a-zA-Z0-9]', '', word).lower()\n",
    "    return normalized_word == normalized_word[::-1]\n",
    "\n",
    "input_word = input(\"Enter a word: \")\n",
    "print(is_palindrome(input_word))"
   ]
  }
 ],
 "metadata": {
  "kernelspec": {
   "display_name": "Python 3",
   "language": "python",
   "name": "python3"
  },
  "language_info": {
   "codemirror_mode": {
    "name": "ipython",
    "version": 3
   },
   "file_extension": ".py",
   "mimetype": "text/x-python",
   "name": "python",
   "nbconvert_exporter": "python",
   "pygments_lexer": "ipython3",
   "version": "3.13.0"
  }
 },
 "nbformat": 4,
 "nbformat_minor": 2
}
