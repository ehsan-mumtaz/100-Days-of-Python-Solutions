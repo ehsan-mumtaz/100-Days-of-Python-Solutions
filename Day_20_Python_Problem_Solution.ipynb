{
 "cells": [
  {
   "cell_type": "markdown",
   "metadata": {},
   "source": [
    "### Finding the Sum of Subarrays\n",
    "\n",
    "A Python program that calculates the sum of all possible subarrays of a given list, but with a fixed window size? Each sum should be in a separate list to keep the output structured"
   ]
  },
  {
   "cell_type": "code",
   "execution_count": 1,
   "metadata": {},
   "outputs": [
    {
     "name": "stdout",
     "output_type": "stream",
     "text": [
      "Subarray Sum: [[6], [9], [12], [15], [18]]\n"
     ]
    }
   ],
   "source": [
    "def sum_of_subarrays(arr, k=3):\n",
    "    if len(arr) < k:\n",
    "        print(\"Array size is smaller than subarray size.\")\n",
    "        return []\n",
    "    \n",
    "    subarray_sums = []\n",
    "    for i in range(len(arr) - k + 1):\n",
    "        subarray = arr[i:i + k]\n",
    "        subarray_sums.append([sum(subarray)])\n",
    "    return subarray_sums\n",
    "\n",
    "num_list = [1, 2, 3, 4, 5, 6, 7]\n",
    "result = sum_of_subarrays(num_list)\n",
    "print(f\"Subarray Sum: {result}\")"
   ]
  }
 ],
 "metadata": {
  "kernelspec": {
   "display_name": "Python 3",
   "language": "python",
   "name": "python3"
  },
  "language_info": {
   "codemirror_mode": {
    "name": "ipython",
    "version": 3
   },
   "file_extension": ".py",
   "mimetype": "text/x-python",
   "name": "python",
   "nbconvert_exporter": "python",
   "pygments_lexer": "ipython3",
   "version": "3.13.0"
  }
 },
 "nbformat": 4,
 "nbformat_minor": 2
}
