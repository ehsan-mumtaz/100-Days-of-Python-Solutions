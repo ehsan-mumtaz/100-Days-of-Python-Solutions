{
 "cells": [
  {
   "cell_type": "markdown",
   "id": "4c5aebf3",
   "metadata": {},
   "source": [
    "### Top K Frequent Elements  \n",
    "\n",
    "Write a Python program that takes a list of integers and an integer `k` as input, and returns the `k` most frequent elements in the list. If there is a tie, return any of the possible answers.\n"
   ]
  },
  {
   "cell_type": "code",
   "execution_count": null,
   "id": "1633d86f",
   "metadata": {},
   "outputs": [],
   "source": [
    "def top_k_frequent(nums, k):\n",
    "    frequency = {}\n",
    "\n",
    "    for num in nums:\n",
    "        if num in frequency:\n",
    "            frequency[num] += 1\n",
    "        else:\n",
    "            frequency[num] = 1\n",
    "    sorted_elements = sorted(frequency.keys(), key=lambda x: frequency[x], reverse=True)\n",
    "    return sorted_elements[:k]\n",
    "\n",
    "l1 = [1, 3, 4, 5, 5, 6, 7, 5, 3, 5]\n",
    "k = int(input(\"Input k: \"))\n",
    "result = top_k_frequent(l1, k)\n",
    "print(f\"The {k} most frequent elements are: {result}\")"
   ]
  }
 ],
 "metadata": {
  "kernelspec": {
   "display_name": "Python 3",
   "language": "python",
   "name": "python3"
  },
  "language_info": {
   "codemirror_mode": {
    "name": "ipython",
    "version": 3
   },
   "file_extension": ".py",
   "mimetype": "text/x-python",
   "name": "python",
   "nbconvert_exporter": "python",
   "pygments_lexer": "ipython3",
   "version": "3.13.0"
  }
 },
 "nbformat": 4,
 "nbformat_minor": 5
}
