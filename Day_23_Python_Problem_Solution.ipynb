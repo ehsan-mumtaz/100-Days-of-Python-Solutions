{
 "cells": [
  {
   "cell_type": "markdown",
   "metadata": {},
   "source": [
    "Write a Python function that takes a string and returns the longest palindromic substring. If there are multiple palindromic substrings of the same length, return the first one."
   ]
  },
  {
   "cell_type": "code",
   "execution_count": null,
   "metadata": {},
   "outputs": [],
   "source": [
    "def longest_palindromic_substring(s: str):\n",
    "    max_len = 0\n",
    "    longest = \"\"\n",
    "\n",
    "    for i in range(len(s)):\n",
    "        for j in range(i + 1, len(s) + 1):\n",
    "            substr = s[i:j]\n",
    "            if substr == substr[::-1] and len(substr) > max_len:\n",
    "                longest = substr\n",
    "                max_len = len(substr)\n",
    "    \n",
    "    return longest\n",
    "result = longest_palindromic_substring(\"forgeeksskeegfor\")\n",
    "print(f\"Longest Palindromic Substring is: {result}\")"
   ]
  }
 ],
 "metadata": {
  "kernelspec": {
   "display_name": "Python 3",
   "language": "python",
   "name": "python3"
  },
  "language_info": {
   "codemirror_mode": {
    "name": "ipython",
    "version": 3
   },
   "file_extension": ".py",
   "mimetype": "text/x-python",
   "name": "python",
   "nbconvert_exporter": "python",
   "pygments_lexer": "ipython3",
   "version": "3.13.0"
  }
 },
 "nbformat": 4,
 "nbformat_minor": 2
}
