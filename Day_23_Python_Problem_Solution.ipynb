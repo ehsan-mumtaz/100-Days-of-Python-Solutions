{
 "cells": [
  {
   "cell_type": "markdown",
   "metadata": {},
   "source": [
    "Write a Python function that takes a string and returns the longest palindromic substring. If there are multiple palindromic substrings of the same length, return the first one."
   ]
  },
  {
   "cell_type": "code",
   "execution_count": 14,
   "metadata": {},
   "outputs": [
    {
     "name": "stdout",
     "output_type": "stream",
     "text": [
      "s\n"
     ]
    }
   ],
   "source": [
    "def longest_palindromic_substring(s:str):\n",
    "    if s == \" \" or s == len(s)*s[0]:\n",
    "        return s\n",
    "    elif s == s[::-1]:\n",
    "        return s\n",
    "    else:\n",
    "        return max([longest_palindromic_substring(s[:-1]), longest_palindromic_substring(s[-1])])\n",
    "print(longest_palindromic_substring(\"Malik ehsan khan\"))"
   ]
  },
  {
   "cell_type": "code",
   "execution_count": null,
   "metadata": {},
   "outputs": [],
   "source": [
    "def longest_palindromic_substring(s:str):\n",
    "    if s == \" \" or s == len(s)*s[0]:\n",
    "        return s\n",
    "    elif s == s[::-1]:\n",
    "        return s\n",
    "    else:\n",
    "        current = s\n",
    "        l = 1\n",
    "        for i in range(len(s)):\n",
    "            for j in range(len(s), 0, -1):\n",
    "                w = s[i:j]\n",
    "                if w == w[::-1] or len(w) > l:\n",
    "                    current = w\n",
    "                    w = len(w)"
   ]
  }
 ],
 "metadata": {
  "kernelspec": {
   "display_name": "Python 3",
   "language": "python",
   "name": "python3"
  },
  "language_info": {
   "codemirror_mode": {
    "name": "ipython",
    "version": 3
   },
   "file_extension": ".py",
   "mimetype": "text/x-python",
   "name": "python",
   "nbconvert_exporter": "python",
   "pygments_lexer": "ipython3",
   "version": "3.13.0"
  }
 },
 "nbformat": 4,
 "nbformat_minor": 2
}
