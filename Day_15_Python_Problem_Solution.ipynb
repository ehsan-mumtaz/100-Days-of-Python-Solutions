{
 "cells": [
  {
   "cell_type": "markdown",
   "metadata": {},
   "source": [
    "### Find the Second Largest Number  \n",
    "\n",
    "Write a Python program that takes a list of integers as input and returns the second largest number in the list."
   ]
  },
  {
   "cell_type": "code",
   "execution_count": null,
   "metadata": {},
   "outputs": [],
   "source": [
    "def second_largest_number(list1):\n",
    "    first_max = max(list1[0], list1[1])\n",
    "    second_max = min(list1[0], list1[1])\n",
    "\n",
    "    for i in range(2, len(list1)):\n",
    "        if list1[i] > first_max:\n",
    "            second_max = first_max\n",
    "            first_max = list1[i]\n",
    "\n",
    "        elif list1[i] > second_max and first_max != list1[i]:\n",
    "            second_max = list1[i]\n",
    "    return second_max\n",
    "\n",
    "data1 = input(\"Enter your numbers separated by spaces:.. \")\n",
    "data2 = list(map(int, data1.split()))\n",
    "print(\"Second largest number is:-->\", second_largest_number(data2))"
   ]
  }
 ],
 "metadata": {
  "kernelspec": {
   "display_name": "Python 3",
   "language": "python",
   "name": "python3"
  },
  "language_info": {
   "codemirror_mode": {
    "name": "ipython",
    "version": 3
   },
   "file_extension": ".py",
   "mimetype": "text/x-python",
   "name": "python",
   "nbconvert_exporter": "python",
   "pygments_lexer": "ipython3",
   "version": "3.13.0"
  }
 },
 "nbformat": 4,
 "nbformat_minor": 2
}
