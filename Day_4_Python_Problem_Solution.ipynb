{
 "cells": [
  {
   "cell_type": "markdown",
   "metadata": {},
   "source": [
    "### Maximum of Three Numbers  \n",
    "\n",
    "Write a Python program that takes three integers as input and prints the largest among them."
   ]
  },
  {
   "cell_type": "code",
   "execution_count": null,
   "metadata": {},
   "outputs": [
    {
     "name": "stdout",
     "output_type": "stream",
     "text": [
      "The largest No is third:.. 3\n"
     ]
    }
   ],
   "source": [
    "num1 = int(input(\"Enter first number:.. \"))\n",
    "num2 = int(input(\"Enter second number:.. \"))\n",
    "num3 = int(input(\"Enter third number:.. \"))\n",
    "if(num1 > num2 and num1 > num3):\n",
    "    print(f\"The largest No is one:.. {num1}\")\n",
    "elif(num2 > num1 and num2 > num3):\n",
    "    print(f\"The largest No is two:.. {num2}\")\n",
    "else:\n",
    "    print(f\"The largest No is third:.. {num3}\")"
   ]
  }
 ],
 "metadata": {
  "kernelspec": {
   "display_name": "Python 3",
   "language": "python",
   "name": "python3"
  },
  "language_info": {
   "codemirror_mode": {
    "name": "ipython",
    "version": 3
   },
   "file_extension": ".py",
   "mimetype": "text/x-python",
   "name": "python",
   "nbconvert_exporter": "python",
   "pygments_lexer": "ipython3",
   "version": "3.13.0"
  }
 },
 "nbformat": 4,
 "nbformat_minor": 2
}
