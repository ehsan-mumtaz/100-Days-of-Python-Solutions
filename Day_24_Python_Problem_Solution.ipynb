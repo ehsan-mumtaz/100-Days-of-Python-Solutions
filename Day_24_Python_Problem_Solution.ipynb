{
 "cells": [
  {
   "cell_type": "markdown",
   "metadata": {},
   "source": [
    "## Rotate List  \n",
    "\n",
    "Write a Python program that takes a list of integers and an integer `k` as input and rotates the list to the right by `k` positions."
   ]
  },
  {
   "cell_type": "code",
   "execution_count": null,
   "metadata": {},
   "outputs": [],
   "source": [
    "def rotate_list(l1, k):\n",
    "    for i in range(k):\n",
    "        temp = l1[len(l1)-1]\n",
    "        for j in range(len(l1)-1, 0, -1):\n",
    "            l1[j] = l1[j - 1]\n",
    "        l1[0] = temp\n",
    "    return l1\n",
    "\n",
    "l1 = [12, 23, 34, 45, 56, 67, 78, 89, 90]\n",
    "k = int(input(\"Enter the number of positions to rotate: \"))\n",
    "result = rotate_list(l1, k)\n",
    "print(f\"Rotated list: {result}\")"
   ]
  }
 ],
 "metadata": {
  "kernelspec": {
   "display_name": "Python 3",
   "language": "python",
   "name": "python3"
  },
  "language_info": {
   "codemirror_mode": {
    "name": "ipython",
    "version": 3
   },
   "file_extension": ".py",
   "mimetype": "text/x-python",
   "name": "python",
   "nbconvert_exporter": "python",
   "pygments_lexer": "ipython3",
   "version": "3.13.0"
  }
 },
 "nbformat": 4,
 "nbformat_minor": 2
}
